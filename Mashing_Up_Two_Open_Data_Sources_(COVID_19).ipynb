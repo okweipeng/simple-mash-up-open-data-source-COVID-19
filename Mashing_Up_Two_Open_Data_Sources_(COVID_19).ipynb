{
  "nbformat": 4,
  "nbformat_minor": 0,
  "metadata": {
    "colab": {
      "provenance": [],
      "authorship_tag": "ABX9TyNqZswixolCrmjeYwz2g6FZ",
      "include_colab_link": true
    },
    "kernelspec": {
      "name": "python3",
      "display_name": "Python 3"
    },
    "language_info": {
      "name": "python"
    }
  },
  "cells": [
    {
      "cell_type": "markdown",
      "metadata": {
        "id": "view-in-github",
        "colab_type": "text"
      },
      "source": [
        "<a href=\"https://colab.research.google.com/github/okweipeng/simple-mash-up-open-data-source-COVID-19/blob/main/Mashing_Up_Two_Open_Data_Sources_(COVID_19).ipynb\" target=\"_parent\"><img src=\"https://colab.research.google.com/assets/colab-badge.svg\" alt=\"Open In Colab\"/></a>"
      ]
    },
    {
      "cell_type": "markdown",
      "source": [
        "## **Simple mash up of at least 2 open sources; Project**\n",
        "\n",
        "##### With no data source in used being preprocessing (beginner data exploring)\n"
      ],
      "metadata": {
        "id": "VTpakIUCwQzI"
      }
    },
    {
      "cell_type": "markdown",
      "source": [
        "#### **Open Source CSV Files:**"
      ],
      "metadata": {
        "id": "_3jysUCvSX3M"
      }
    },
    {
      "cell_type": "markdown",
      "source": [
        "Two CSV File Used For Mash Up:\n",
        "\n",
        "1) COVID-19_Daily_Counts_of_Cases__Hospitalizations__and_Deaths.csv\n",
        "\n",
        "2) DOHMH_Covid-19_Milestone_Data__Percent_of_NYC_residents_tested_who_tested_positive.csv"
      ],
      "metadata": {
        "id": "rDllmodDSLpf"
      }
    },
    {
      "cell_type": "markdown",
      "source": [
        "#### **Data info as of the planning of the project**"
      ],
      "metadata": {
        "id": "o-GljmipScGi"
      }
    },
    {
      "cell_type": "markdown",
      "source": [
        "Data Starts From - Feburary, 2020\n",
        "\n",
        "\n",
        "Data Valid Up To - January, 2024"
      ],
      "metadata": {
        "id": "ZMM1MJ2XSP-U"
      }
    },
    {
      "cell_type": "markdown",
      "source": [
        "#### **Background**"
      ],
      "metadata": {
        "id": "4-YseEi33yMo"
      }
    },
    {
      "cell_type": "markdown",
      "source": [
        "As you may know, COVID-19 has played a significant role in impacting/changing people’s lives. COVID is known to be a deadly virus and without the vaccine, it can hospitalize people and even may cause serious death rates. Internationally speaking, it is interesting how data from different places are being gathered and used to determine the positivity rate (amount of people who tested positive). In addition to my project in curiosity, I will be using/pulling out data (CSV) based on New York City’s five boroughs (Brooklyn, Bronx, Queens, Manhattan, & Staten Island) to know which borough has the highest positivity rate. The start date of the data of the CSV file is to be the end of February 2020 (February 29th, 2020). Furthermore, I will also be using the data on CSV to determine the testing, hospitalization, and death rates within the dates provided in the code.\n",
        "\n",
        "Although COVID may have been a deadly virus the CDC recommends safety measures to prevent infection. Methods that include staying six feet apart, and mask up, In my project, I will be using data that will include the date, testing, positivity, hospitalization, deaths, and data from the five boroughs (Brooklyn, Bronx, Queens, Bronx, & Staten Island) As for the point here is I will be using the data (CSV) in determining which borough in New York City has the highest positive number.\n",
        "\n",
        "In this project using datasets provided in each CSV to determine the positivity rate in each borough will allow us to see how the COVID positivity rate may impact each borough in NYC as we input the days into the code increasing as the days as we go in this experiment ([1] [:28] (4 Weeks), ([1] [:183]) (6 Months), and a year ([1] [:365])."
      ],
      "metadata": {
        "id": "_uAU6rTr36x4"
      }
    },
    {
      "cell_type": "markdown",
      "source": [
        "#### **Prediction/Hypothesis:**"
      ],
      "metadata": {
        "id": "WYn4aYOe4ahE"
      }
    },
    {
      "cell_type": "markdown",
      "source": [
        "Before trying this procedure/starting the process, as for my prediction here, depending on whether it’s in days, months, or a year I will have to go with (Borough: Manhattan) as having the highest positivity rate/number when COVID started because it where the news has said where the first case has started. And we will continue our findings there... (May be wrong but it’s just a hypothesis/prediction of mine)"
      ],
      "metadata": {
        "id": "ruZTDhji4eZg"
      }
    },
    {
      "cell_type": "markdown",
      "source": [
        "**Code Portion**"
      ],
      "metadata": {
        "id": "_OcRWYef4zaW"
      }
    },
    {
      "cell_type": "markdown",
      "source": [
        "In the first portion of the code, I've imported the pandas library as pd to handle and analyze two datasets related to COVID-19.\n",
        "\n",
        "The first dataset csv file - 'COVID-19_Daily_Counts_of_Cases__Hospitalizations__and_Deaths.csv,' is read into a pandas DataFrame named covid_data. This data frame is converted into a dictionary using the to_dict() method.\n",
        "\n",
        "The second dataset, named 'DOHMH_Covid-19_Milestone_Data__Percent_of_NYC_residents_tested_who_tested_positive.csv,' is read into a new DataFrame called vaccination_data, and it is also converted into a dictionary named vaccination_dict."
      ],
      "metadata": {
        "id": "JCKwVRR_46nx"
      }
    },
    {
      "cell_type": "code",
      "execution_count": null,
      "metadata": {
        "id": "Ch1P2rsBMOGW"
      },
      "outputs": [],
      "source": [
        "\"\"\"\n",
        "Loads two public COVID-19 datasets: one with daily case, hospitalization, and death counts,\n",
        "and another with positivity rates. Converts both datasets into dictionaries for easy access (pull/grab).\n",
        "\"\"\"\n",
        "\n",
        "#Libraries used\n",
        "import pandas as pd\n",
        "\n",
        "#First open source COVID-19 data; Date, Five Boroughs, Death Count, & Hospitalization Rate\n",
        "covid_data = pd.read_csv('COVID-19_Daily_Counts_of_Cases__Hospitalizations__and_Deaths.csv')\n",
        "covid_dict = covid_data.to_dict()\n",
        "\n",
        "#Second COVID-19 open source data; Positivity Rate/Count\n",
        "vaccination_data = pd.read_csv('DOHMH_Covid-19_Milestone_Data__Percent_of_NYC_residents_tested_who_tested_positive.csv')\n",
        "vaccination_dict = vaccination_data.to_dict()"
      ]
    },
    {
      "cell_type": "markdown",
      "source": [
        "**Note:** Here, I've combined the two datasets into one to satisfy the project outline as we are mashing two CSV files into one. (Using data from both CSV and combining them into one)"
      ],
      "metadata": {
        "id": "CxW-iBOE6gPf"
      }
    },
    {
      "cell_type": "code",
      "source": [
        "#Combining the dictionaries/data\n",
        "combine_dict = {**covid_dict, **vaccination_dict}"
      ],
      "metadata": {
        "id": "wrg1bwo4feST"
      },
      "execution_count": null,
      "outputs": []
    },
    {
      "cell_type": "code",
      "source": [
        "#Convert to DataFrame\n",
        "df = pd.DataFrame.from_dict(combine_dict)"
      ],
      "metadata": {
        "id": "YOnkX-qKfg2o"
      },
      "execution_count": null,
      "outputs": []
    },
    {
      "cell_type": "markdown",
      "source": [
        "**In this section of the code:**\n",
        "\n",
        "I have specified which columns of datasets that I will be using from both CSV files and it is being combined into one to further my findings regarding COVID-19\n",
        "\n",
        "(Note: I am specifying the boroughs, based on my interest in the findings for this project in determining which borough has been impacted the most during the COVID-19 crisis)"
      ],
      "metadata": {
        "id": "h-Dnoi7O6-vB"
      }
    },
    {
      "cell_type": "code",
      "source": [
        "\"\"\"\n",
        "Get COVID-19 numbers; total cases, hospitalizations, and deaths from the data.\n",
        "Actknowledge number of positive cases from each NYC borough and organizes everything for easy use later.\n",
        "\"\"\"\n",
        "\n",
        "#Extract columns\n",
        "date_col = df['date_of_interest']\n",
        "testing_col = df['positive_test']\n",
        "postive_col = df['CASE_COUNT']\n",
        "hospitalized_col = df['HOSPITALIZED_COUNT']\n",
        "deaths_col = df['DEATH_COUNT']\n",
        "\n",
        "#Boroughs\n",
        "brooklyncase_col = df['BK_CASE_COUNT']\n",
        "statenislandcase_col = df['SI_CASE_COUNT']\n",
        "bronxcase_col = df['BX_CASE_COUNT']\n",
        "manhattancase_col = df['MN_CASE_COUNT']\n",
        "queenscase_col = df['QN_CASE_COUNT']\n",
        "\n",
        "#Store column names in tuples\n",
        "date_name = ('Date', tuple(date_col.values))\n",
        "testing_name = ('Number of Tests', tuple(testing_col.values))\n",
        "postive_name = ('Sum Tested Postive', tuple(postive_col.values))\n",
        "hospitalized_name = ('Hospitalized', tuple(hospitalized_col.values))\n",
        "deaths_name = ('Death Count', tuple(deaths_col.values))\n",
        "\n",
        "#Boroughs\n",
        "brooklyncase_name = (\"Tested Postive - Brooklyn\", tuple(brooklyncase_col.values))\n",
        "statenislandcase_name = (\"Tested Postive - Staten Island\", tuple(statenislandcase_col.values))\n",
        "bronxcase_name = (\"Tested Postive - Bronx\", tuple(bronxcase_col.values))\n",
        "manhattancase_name = (\"Tested Postive - Manhatten\", tuple(manhattancase_col.values))\n",
        "queenscase_name = (\"Tested Postive - Queens\", tuple(queenscase_col.values))"
      ],
      "metadata": {
        "id": "neK2RwrPft5E"
      },
      "execution_count": null,
      "outputs": []
    },
    {
      "cell_type": "markdown",
      "source": [
        "**Experimenting: To Further My Findings**"
      ],
      "metadata": {
        "id": "yVXaK4qR8MI5"
      }
    },
    {
      "cell_type": "code",
      "source": [
        "\"\"\"\n",
        "Adds up the number of hospitalizations and deaths over a set period (with our current 4 weeks timeframe).\n",
        "Total up the number of positive COVID-19 cases in each NYC borough over 4 weeks,\n",
        "along with the overall number of people who tested positive citywide.\n",
        "\"\"\"\n",
        "\n",
        "#Sum of data within 4 Weeks - Approximately 28 days\n",
        "# print(date_name[0], \":\", date_name[1][:28]) #Optional\n",
        "print(hospitalized_name[0], \":\", sum(hospitalized_name[1][:28]))\n",
        "print(deaths_name[0], \":\", sum(deaths_name[1][:365]))\n",
        "\n",
        "#Boroughs Sum of 4 Weeks\n",
        "print(brooklyncase_name[0], \":\", sum(brooklyncase_name[1][:28]))\n",
        "print(statenislandcase_name[0], \":\", sum(statenislandcase_name[1][:28]))\n",
        "print(bronxcase_name[0], \":\", sum(bronxcase_name[1][:28]))\n",
        "print(manhattancase_name[0], \":\", sum(manhattancase_name[1][:28]))\n",
        "print(queenscase_name[0], \":\", sum(queenscase_name[1][:28]))\n",
        "\n",
        "#Sum of postivity rate in the five boroughs of 4 Weeks\n",
        "print(postive_name[0], \":\", sum(postive_name[1][:28]))"
      ],
      "metadata": {
        "colab": {
          "base_uri": "https://localhost:8080/"
        },
        "id": "tznBxsCwtiLJ",
        "outputId": "2dc6f706-bd3b-4fa1-d249-8ab5e57e2d8d"
      },
      "execution_count": null,
      "outputs": [
        {
          "output_type": "stream",
          "name": "stdout",
          "text": [
            "Hospitalized : 11961\n",
            "Death Count : 29856\n",
            "Tested Postive - Brooklyn : 13238\n",
            "Tested Postive - Staten Island : 3331\n",
            "Tested Postive - Bronx : 8624\n",
            "Tested Postive - Manhatten : 7326\n",
            "Tested Postive - Queens : 14036\n",
            "Sum Tested Postive : 46557\n"
          ]
        }
      ]
    },
    {
      "cell_type": "markdown",
      "source": [
        "**Summary**"
      ],
      "metadata": {
        "id": "vOKYkVLK8g_D"
      }
    },
    {
      "cell_type": "markdown",
      "source": [
        "The data of both emerged CSV files ~ provided the positivity rate among/of each borough, etc. and we can say that my prediction (hypothesis) was incorrect in having Manhattan was the first borough to have the highest positivity rate out of the five boroughs. As a result, the code has also\n",
        "provided/given us the sum of the positivity rate of each of the boroughs in NYC.\n",
        "\n",
        "As we closely examine the sum of total positivity cases within the 4 weeks, we can say that Queens exceeded the positive rate among the other boroughs in NYC."
      ],
      "metadata": {
        "id": "MhFHvQl_8TmQ"
      }
    },
    {
      "cell_type": "code",
      "source": [
        "\"\"\"\n",
        "Adds up the number of hospitalizations and deaths over a set period (with our current 183 day timeframe).\n",
        "Total up the number of positive COVID-19 cases in each NYC borough over 4 weeks,\n",
        "along with the overall number of people who tested positive citywide.\n",
        "\"\"\"\n",
        "\n",
        "#Sum of data within 6 Months - Approximately 183 days\n",
        "# print(date_name[0], \":\", date_name[1][:183]) # Optional\n",
        "print(hospitalized_name[0], \":\", sum(hospitalized_name[1][:183]))\n",
        "print(deaths_name[0], \":\", sum(deaths_name[1][:183]))\n",
        "\n",
        "#Boroughs Sum of 2 Weeks\n",
        "print(brooklyncase_name[0], \":\", sum(brooklyncase_name[1][:183]))\n",
        "print(statenislandcase_name[0], \":\", sum(statenislandcase_name[1][:183]))\n",
        "print(bronxcase_name[0], \":\", sum(bronxcase_name[1][:183]))\n",
        "print(manhattancase_name[0], \":\", sum(manhattancase_name[1][:183]))\n",
        "print(queenscase_name[0], \":\", sum(queenscase_name[1][:183]))\n",
        "\n",
        "#Sum of postivity rate in the five boroughs of 2 Weeks\n",
        "print(postive_name[0], \":\", sum(postive_name[1][:183]))"
      ],
      "metadata": {
        "colab": {
          "base_uri": "https://localhost:8080/"
        },
        "id": "CrzGjVsuvssn",
        "outputId": "e8b16311-9e04-4bc3-8688-281813592080"
      },
      "execution_count": null,
      "outputs": [
        {
          "output_type": "stream",
          "name": "stdout",
          "text": [
            "Hospitalized : 53934\n",
            "Death Count : 23743\n",
            "Tested Postive - Brooklyn : 63811\n",
            "Tested Postive - Staten Island : 15115\n",
            "Tested Postive - Bronx : 51881\n",
            "Tested Postive - Manhatten : 29925\n",
            "Tested Postive - Queens : 69734\n",
            "Sum Tested Postive : 230473\n"
          ]
        }
      ]
    },
    {
      "cell_type": "markdown",
      "source": [
        "**Summary**"
      ],
      "metadata": {
        "id": "sWdwT8HD8jjm"
      }
    },
    {
      "cell_type": "markdown",
      "source": [
        "Part 2 of the experiment after emerging both CSV files; provided the positivity rate among each borough, etc. and we can say that my prediction (hypothesis) was still incorrect in having Manhattan was the first borough to have the highest positivity rate out of the five boroughs.\n",
        "\n",
        "As a result, closely examining the sum of total positivity cases within the 6-month range, we can say that Queens still exceeds the positive rate among the other boroughs in NYC."
      ],
      "metadata": {
        "id": "UmOqSl5T8l-V"
      }
    },
    {
      "cell_type": "code",
      "source": [
        "\"\"\"\n",
        "Adds up the number of hospitalizations and deaths over a set period (with our current 1 year timeframe).\n",
        "Total up the number of positive COVID-19 cases in each NYC borough over 4 weeks,\n",
        "along with the overall number of people who tested positive citywide.\n",
        "\"\"\"\n",
        "\n",
        "#Sum of data within 12 Months - Approximately 365 days\n",
        "# print(date_name[0], \":\", date_name[1][:365]) #Optional\n",
        "print(hospitalized_name[0], \":\", sum(hospitalized_name[1][:365]))\n",
        "print(deaths_name[0], \":\", sum(deaths_name[1][:365]))\n",
        "\n",
        "#Boroughs Sum of 2 Weeks\n",
        "print(brooklyncase_name[0], \":\", sum(brooklyncase_name[1][:365]))\n",
        "print(statenislandcase_name[0], \":\", sum(statenislandcase_name[1][:365]))\n",
        "print(bronxcase_name[0], \":\", sum(bronxcase_name[1][:365]))\n",
        "print(manhattancase_name[0], \":\", sum(manhattancase_name[1][:365]))\n",
        "print(queenscase_name[0], \":\", sum(queenscase_name[1][:365]))\n",
        "\n",
        "#Sum of postivity rate in the five boroughs of 2 Weeks\n",
        "print(postive_name[0], \":\", sum(postive_name[1][:365]))"
      ],
      "metadata": {
        "colab": {
          "base_uri": "https://localhost:8080/"
        },
        "id": "JkPlpXODvi5r",
        "outputId": "ca985500-af68-46d8-93d9-0d928dd24539"
      },
      "execution_count": null,
      "outputs": [
        {
          "output_type": "stream",
          "name": "stdout",
          "text": [
            "Hospitalized : 87903\n",
            "Death Count : 29856\n",
            "Tested Postive - Brooklyn : 181464\n",
            "Tested Postive - Staten Island : 48928\n",
            "Tested Postive - Bronx : 124514\n",
            "Tested Postive - Manhatten : 87540\n",
            "Tested Postive - Queens : 182041\n",
            "Sum Tested Postive : 624544\n"
          ]
        }
      ]
    },
    {
      "cell_type": "markdown",
      "source": [
        "**Summary**"
      ],
      "metadata": {
        "id": "rQtDCouk9hwm"
      }
    },
    {
      "cell_type": "markdown",
      "source": [
        "Part 3 of the experiment after emerging both CSV files; provided the positivity rate among each borough, etc. and we can say that my prediction (hypothesis) was still incorrect in having Manhattan was the first borough to have the highest positivity rate out of the five boroughs.\n",
        "\n",
        "As a result, closely examining the sum of total positivity cases within the one-year range, we can say that Queens still exceeds the positive rate among the other boroughs in NYC."
      ],
      "metadata": {
        "id": "Ajvgl_kV9j3h"
      }
    },
    {
      "cell_type": "markdown",
      "source": [
        "**Conclusion:**"
      ],
      "metadata": {
        "id": "8vFFotIo7D1j"
      }
    },
    {
      "cell_type": "markdown",
      "source": [
        "For this project in the curiosity of this experiment, I want to know about NYC’s five borough positivity rate when COVID started to see how the positivity rate has changed. As a result of this project experiment, I should not have stayed with the same prediction of choice when deciding which borough has the highest rate of positivity in weeks, months, and a year. However, I have decided on Manhattan as having the highest positivity rate/number because it was where COVID-19’s first case started. In conclusion, by looking at the results of the output it seems that the (Borough: Queens) has the highest positivity rate out of all boroughs during the months and years. In addition (Borough: Brooklyn) is the second with the highest positivity rate."
      ],
      "metadata": {
        "id": "d6KvHP5U7GTW"
      }
    }
  ]
}